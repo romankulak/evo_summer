{
 "cells": [
  {
   "cell_type": "code",
   "execution_count": 91,
   "metadata": {
    "collapsed": true
   },
   "outputs": [],
   "source": [
    "import numpy as np"
   ]
  },
  {
   "cell_type": "code",
   "execution_count": 92,
   "metadata": {
    "collapsed": true
   },
   "outputs": [],
   "source": [
    "# Function generates 10*10*10 array with random integers [0;9] \n",
    "\n",
    "def random_integers(low=0, high=9, elements=10, dimension=3):\n",
    "    arr3d = np.random.randint(low, high=high, size=elements**dimension)\n",
    "    return arr3d.reshape((elements,)*3)"
   ]
  },
  {
   "cell_type": "code",
   "execution_count": 93,
   "metadata": {
    "collapsed": false
   },
   "outputs": [
    {
     "data": {
      "text/plain": [
       "(10, 10, 10)"
      ]
     },
     "execution_count": 93,
     "metadata": {},
     "output_type": "execute_result"
    }
   ],
   "source": [
    "vec = random_integers() # default 10*10*10 array with random integers [0;9]\n",
    "vec.shape # shape of the array"
   ]
  },
  {
   "cell_type": "code",
   "execution_count": 94,
   "metadata": {
    "collapsed": true
   },
   "outputs": [],
   "source": [
    "# Function returns the maximum sum of columns and columns coordinates \n",
    "\n",
    "def max_sum_coord(vec, n):\n",
    "    coordinates=[]\n",
    "    all_sum=[]\n",
    "    for matrix in xrange(n):\n",
    "        for column in xrange(n):\n",
    "            for row in xrange(n):\n",
    "                # summing throught all mutually perpendicular \n",
    "                all_sum.append(sum(sum([vec[matrix,:,column],vec[matrix,row,:],vec[:,row,column]])))\n",
    "                # coordinates appending\n",
    "                coordinates.append([matrix,column,row])\n",
    "                \n",
    "    # maximum of sums\n",
    "    max_index=all_sum.index(max(all_sum))\n",
    "    return max(all_sum), coordinates[max_index]"
   ]
  },
  {
   "cell_type": "code",
   "execution_count": 95,
   "metadata": {
    "collapsed": true
   },
   "outputs": [],
   "source": [
    "n=vec.shape[0]\n",
    "max_sum,coordinates=max_sum_coord(vec, n)"
   ]
  },
  {
   "cell_type": "code",
   "execution_count": 96,
   "metadata": {
    "collapsed": true
   },
   "outputs": [],
   "source": [
    "# Returns 3 perpendicular columns ( numpy arrays)  which sum is the maximum\n",
    "\n",
    "def max_columns(vec, coordinates):\n",
    "    matrix,column,row=coordinates[0],coordinates[1],coordinates[2]\n",
    "    vectors = []\n",
    "    return vec[matrix,:,column], vec[matrix,row,:], vec[:,row,column]"
   ]
  },
  {
   "cell_type": "code",
   "execution_count": 97,
   "metadata": {
    "collapsed": false
   },
   "outputs": [
    {
     "data": {
      "text/plain": [
       "(array([4, 3, 7, 6, 8, 8, 6, 6, 5, 7]),\n",
       " array([7, 2, 4, 8, 3, 8, 6, 4, 5, 8]),\n",
       " array([6, 3, 8, 7, 6, 7, 8, 6, 4, 5]))"
      ]
     },
     "execution_count": 97,
     "metadata": {},
     "output_type": "execute_result"
    }
   ],
   "source": [
    "max_columns(vec, coordinates)"
   ]
  },
  {
   "cell_type": "code",
   "execution_count": 98,
   "metadata": {
    "collapsed": false
   },
   "outputs": [
    {
     "name": "stdout",
     "output_type": "stream",
     "text": [
      "Max sum of Columns is:  175\n",
      "\n",
      " Columns are: \n",
      "\n",
      " vec[2,:,9] :  [4 3 7 6 8 8 6 6 5 7]\n",
      "\n",
      " vec[2,4,:] : [7 2 4 8 3 8 6 4 5 8]\n",
      "\n",
      " vec[:,4,9] :  [6 3 8 7 6 7 8 6 4 5]\n",
      "None\n"
     ]
    }
   ],
   "source": [
    "# Printing the Results:\n",
    "def print_columns(vec, coordinates):\n",
    "    matrix,column,row=coordinates[0],coordinates[1],coordinates[2]\n",
    "    print \"\\n vec[%s,:,%s] : \" % (matrix,column), vec[matrix,:,column]\n",
    "    print \"\\n vec[%s,%s,:] :\" % (matrix,row), vec[matrix,row,:]\n",
    "    print \"\\n vec[:,%s,%s] : \" % (row,column), vec[:,row,column]\n",
    "def print_result():\n",
    "    print \"Max sum of Columns is: \", max_sum\n",
    "    print \"\\n Columns are: \\n\", print_columns(vec, coordinates)\n",
    "\n",
    "print_result()"
   ]
  },
  {
   "cell_type": "code",
   "execution_count": null,
   "metadata": {
    "collapsed": true
   },
   "outputs": [],
   "source": []
  }
 ],
 "metadata": {
  "kernelspec": {
   "display_name": "Python 2",
   "language": "python",
   "name": "python2"
  },
  "language_info": {
   "codemirror_mode": {
    "name": "ipython",
    "version": 2
   },
   "file_extension": ".py",
   "mimetype": "text/x-python",
   "name": "python",
   "nbconvert_exporter": "python",
   "pygments_lexer": "ipython2",
   "version": "2.7.11"
  }
 },
 "nbformat": 4,
 "nbformat_minor": 0
}
